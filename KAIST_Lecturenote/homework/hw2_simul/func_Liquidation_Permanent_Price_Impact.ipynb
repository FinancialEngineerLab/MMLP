{
 "cells": [
  {
   "cell_type": "code",
   "execution_count": null,
   "metadata": {},
   "outputs": [],
   "source": [
    "import numpy as np\n",
    "import matplotlib.pyplot as plt"
   ]
  },
  {
   "cell_type": "code",
   "execution_count": null,
   "metadata": {},
   "outputs": [],
   "source": [
    "def inter_extrapolation(x, y, e):\n",
    "    \"\"\" Extrapolation and interpolation.\n",
    "    \n",
    "    Arguments\n",
    "    ===\n",
    "    x: numpy array\n",
    "    y: numpy array\n",
    "    e: numpy array\n",
    "    \n",
    "    Return\n",
    "    ===\n",
    "    return: numpy array\n",
    "    \"\"\"\n",
    "    \n",
    "    new_x = np.sort(x)\n",
    "    new_y = y[np.argsort(x)]\n",
    "\n",
    "    def point_wise(ep):\n",
    "        if ep < new_x[0]:\n",
    "            return new_y[0] + (ep - new_x[0]) * (new_y[1] - new_y[0]) / (new_x[1] - new_x[0])\n",
    "        elif ep > new_x[-1]:\n",
    "            return new_y[-1] + (ep - new_x[-1]) * (new_y[-1] - new_y[-2]) / (new_x[-1] - new_x[-2])\n",
    "        else:\n",
    "            return np.interp([ep], x, y)[0]\n",
    "    return np.array([point_wise(i) for i in e])"
   ]
  },
  {
   "cell_type": "code",
   "execution_count": null,
   "metadata": {},
   "outputs": [],
   "source": [
    "def calculate_inventory_trading_speed(alpha, phi, t, tt, T, b, k):\n",
    "    \"\"\" For given points t, this function solves for the optimal speed of trading (v), and investor's inventory along the\n",
    "        optimal path (Q).\n",
    "        This function also returns optimal speed of trading (vt), and investor's inventory along the optimal path (Qt) as a\n",
    "        function of time, tt, which is a vector of time points chosen by users for marking.\n",
    "        \n",
    "    Arguments\n",
    "    ===\n",
    "    alpha: float\n",
    "    phi: numpy array\n",
    "    t: numpy array\n",
    "    tt: numpy array\n",
    "    T: int\n",
    "    b: float\n",
    "    k: float\n",
    "    \n",
    "    Return\n",
    "    ===\n",
    "    Q: numpy array\n",
    "    v: numpy array\n",
    "    Qt: numpy array\n",
    "    vt: numpy array\n",
    "    \"\"\"\n",
    "        \n",
    "    return Q, v, Qt, vt"
   ]
  },
  {
   "cell_type": "code",
   "execution_count": null,
   "metadata": {},
   "outputs": [],
   "source": [
    "def plot_inventory_trading_speed(alpha0, phi, symb, t, tt, T, b, k, labels, main):\n",
    "    \"\"\" This function plots optimal inventories and trading speeds.\n",
    "    \"\"\"\n",
    "    \n",
    "    fig, (ax_inv, ax_trad) = plt.subplots(ncols=2, figsize=(20, 10))\n",
    "    color_idx = np.linspace(0, 1, phi.shape[0])\n",
    "    for i, line in zip(color_idx, range(0, phi.shape[0])):\n",
    "        inv_line, trad_line, inv_dot, trad_dot = calculate_inventory_trading_speed(alpha0, phi[line], t, tt, T, b, k)\n",
    "        plt1, = ax_inv.plot(tt, inv_dot, color=plt.cm.rainbow(i), label=labels[line], marker=symb[line], linestyle='None')\n",
    "        plt2, = ax_trad.plot(tt, trad_dot, color=plt.cm.rainbow(i), label=labels[line], marker=symb[line], linestyle='None')\n",
    "        plt3, = ax_inv.plot(t, inv_line, linestyle='-', color=plt.cm.rainbow(i))\n",
    "        plt4, = ax_trad.plot(t, trad_line, linestyle='-', color=plt.cm.rainbow(i))\n",
    "    ax_inv.legend()\n",
    "    ax_inv.set_xlabel(r\"Time\", fontsize=18)\n",
    "    ax_inv.set_ylabel(r\"Inventory\", fontsize=18)\n",
    "    ax_trad.legend()\n",
    "    ax_trad.set_xlabel(r\"Time\", fontsize=18)\n",
    "    ax_trad.set_ylabel(r\"Trading Speed\", fontsize=18)\n",
    "    ax_trad.yaxis.set_label_coords(-0.1,0.5)\n",
    "    plt.suptitle(main, fontsize=20)\n",
    "    fig.canvas.draw()"
   ]
  }
 ],
 "metadata": {
  "kernelspec": {
   "display_name": "Python 3",
   "language": "python",
   "name": "python3"
  },
  "language_info": {
   "codemirror_mode": {
    "name": "ipython",
    "version": 3
   },
   "file_extension": ".py",
   "mimetype": "text/x-python",
   "name": "python",
   "nbconvert_exporter": "python",
   "pygments_lexer": "ipython3",
   "version": "3.9.6"
  }
 },
 "nbformat": 4,
 "nbformat_minor": 5
}
