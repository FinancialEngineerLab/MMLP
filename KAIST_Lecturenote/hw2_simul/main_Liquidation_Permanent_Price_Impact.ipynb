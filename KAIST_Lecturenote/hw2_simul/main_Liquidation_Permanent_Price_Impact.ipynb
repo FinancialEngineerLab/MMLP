{
 "cells": [
  {
   "cell_type": "code",
   "execution_count": null,
   "metadata": {},
   "outputs": [],
   "source": [
    "# Import necessary libraries\n",
    "import numpy as np\n",
    "import import_ipynb\n",
    "import func_Liquidation_Permanent_Price_Impact as myFunc"
   ]
  },
  {
   "cell_type": "code",
   "execution_count": null,
   "metadata": {},
   "outputs": [],
   "source": [
    "# Set parameters\n",
    "T = 1\n",
    "Ndt = 6.5 * 3600\n",
    "dt = T / Ndt\n",
    "t = np.arange(0, T + dt, dt)\n",
    "\n",
    "k = 0.001\n",
    "b = 0.001\n",
    "\n",
    "tau = T - t\n",
    "tt = np.arange(0, T + 0.1, 0.1)\n",
    "\n",
    "myphi = np.array([10e-10, 0.001, 0.01, 0.1])\n",
    "symb = np.array([\"o\", \"*\", \"+\", \"^\"])\n",
    "\n",
    "alpha = 100"
   ]
  },
  {
   "cell_type": "code",
   "execution_count": null,
   "metadata": {},
   "outputs": [],
   "source": [
    "# Plot inventory and trading speed\n",
    "myFunc.plot_inventory_trading_speed(0.01, myphi, symb, t, tt, T, b, k, [r\"$\\phi = $\" + str(i) for i in myphi], main=r\"$\\alpha = 0.01$\")\n",
    "myFunc.plot_inventory_trading_speed(100, myphi, symb, t, tt, T, b, k, [r\"$\\phi = $\" + str(i) for i in myphi], main=r\"$\\alpha = +\\infty$\")"
   ]
  },
  {
   "cell_type": "code",
   "execution_count": null,
   "metadata": {},
   "outputs": [],
   "source": []
  }
 ],
 "metadata": {
  "kernelspec": {
   "display_name": "Python 3",
   "language": "python",
   "name": "python3"
  },
  "language_info": {
   "codemirror_mode": {
    "name": "ipython",
    "version": 3
   },
   "file_extension": ".py",
   "mimetype": "text/x-python",
   "name": "python",
   "nbconvert_exporter": "python",
   "pygments_lexer": "ipython3",
   "version": "3.9.6"
  }
 },
 "nbformat": 4,
 "nbformat_minor": 5
}
